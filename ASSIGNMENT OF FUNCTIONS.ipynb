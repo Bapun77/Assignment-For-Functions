{
 "cells": [
  {
   "cell_type": "markdown",
   "id": "ce480242",
   "metadata": {},
   "source": [
    "## A1) \"def\" keyword is used to create a function."
   ]
  },
  {
   "cell_type": "code",
   "execution_count": null,
   "id": "dba47a2a",
   "metadata": {},
   "outputs": [],
   "source": [
    "def odd(a,b):\n",
    "    for i in range(a,b):\n",
    "        if i%2!=0:\n",
    "            print(\"The odd numbers between 1 and 25 are:\",i)"
   ]
  },
  {
   "cell_type": "code",
   "execution_count": 11,
   "id": "2d748d9e",
   "metadata": {},
   "outputs": [
    {
     "name": "stdout",
     "output_type": "stream",
     "text": [
      "The odd numbers between 1 and 25 are: 1\n",
      "The odd numbers between 1 and 25 are: 3\n",
      "The odd numbers between 1 and 25 are: 5\n",
      "The odd numbers between 1 and 25 are: 7\n",
      "The odd numbers between 1 and 25 are: 9\n",
      "The odd numbers between 1 and 25 are: 11\n",
      "The odd numbers between 1 and 25 are: 13\n",
      "The odd numbers between 1 and 25 are: 15\n",
      "The odd numbers between 1 and 25 are: 17\n",
      "The odd numbers between 1 and 25 are: 19\n",
      "The odd numbers between 1 and 25 are: 21\n",
      "The odd numbers between 1 and 25 are: 23\n",
      "The odd numbers between 1 and 25 are: 25\n"
     ]
    }
   ],
   "source": [
    "odd(1,26)"
   ]
  },
  {
   "cell_type": "markdown",
   "id": "e459d1a0",
   "metadata": {},
   "source": [
    "## A2) *args is used to add as many arguements to a function as per our wish"
   ]
  },
  {
   "cell_type": "markdown",
   "id": "8e9950d5",
   "metadata": {},
   "source": [
    "## ** args is used to convert the input arguement into a key value pair thus comprising a dicytionary."
   ]
  },
  {
   "cell_type": "code",
   "execution_count": 12,
   "id": "012d5fae",
   "metadata": {},
   "outputs": [],
   "source": [
    "def test(*args):\n",
    "    return args"
   ]
  },
  {
   "cell_type": "code",
   "execution_count": 13,
   "id": "74f7ea0b",
   "metadata": {},
   "outputs": [
    {
     "data": {
      "text/plain": [
       "(1, 2, 3, 4, 5, 6, 7, 8, 9)"
      ]
     },
     "execution_count": 13,
     "metadata": {},
     "output_type": "execute_result"
    }
   ],
   "source": [
    "test(1,2,3,4,5,6,7,8,9)"
   ]
  },
  {
   "cell_type": "code",
   "execution_count": 14,
   "id": "963d31a4",
   "metadata": {},
   "outputs": [],
   "source": [
    "def test1(**kwargs):\n",
    "    return kwargs"
   ]
  },
  {
   "cell_type": "code",
   "execution_count": 15,
   "id": "193fdb0e",
   "metadata": {},
   "outputs": [
    {
     "data": {
      "text/plain": [
       "{'a': 1, 'b': 1, 'c': 3, 'd': 4}"
      ]
     },
     "execution_count": 15,
     "metadata": {},
     "output_type": "execute_result"
    }
   ],
   "source": [
    "test1(a=1,b=1,c=3,d=4)"
   ]
  },
  {
   "cell_type": "markdown",
   "id": "dd723fa7",
   "metadata": {},
   "source": [
    "## A3) An iterator in python is an object that contains a countable number of values.\n"
   ]
  },
  {
   "cell_type": "code",
   "execution_count": 17,
   "id": "5edcca08",
   "metadata": {},
   "outputs": [
    {
     "name": "stdout",
     "output_type": "stream",
     "text": [
      "[2, 4, 6, 8, 12, 14, 16, 18, 20]\n",
      "[2, 4, 6, 8, 12]\n"
     ]
    }
   ],
   "source": [
    "source_list=[2,4,6,8,12,14,16,18,20]\n",
    "N=5\n",
    "new_list=source_list[:N]\n",
    "print(source_list)\n",
    "print(new_list)"
   ]
  },
  {
   "cell_type": "markdown",
   "id": "f7b7c07f",
   "metadata": {},
   "source": [
    "## A4) generator functions are those functions that returns an iterator that produces a sequence of values when itterated over.\n",
    "## b) Yield keyword ia used to create a generator function which is memory efficient and can be used as an itterator object."
   ]
  },
  {
   "cell_type": "code",
   "execution_count": 20,
   "id": "759ba570",
   "metadata": {},
   "outputs": [],
   "source": [
    "# generator function for fibonacci series\n",
    "def func_fib(n):\n",
    "    a,b=0,1\n",
    "    for i in func_fib(n):\n",
    "        yield a\n",
    "        a,b=b,b+a"
   ]
  },
  {
   "cell_type": "code",
   "execution_count": 21,
   "id": "616fd1cd",
   "metadata": {},
   "outputs": [
    {
     "data": {
      "text/plain": [
       "<generator object func_fib at 0x00000222E2A4DD50>"
      ]
     },
     "execution_count": 21,
     "metadata": {},
     "output_type": "execute_result"
    }
   ],
   "source": [
    "func_fib(10)"
   ]
  },
  {
   "cell_type": "markdown",
   "id": "bebfcb41",
   "metadata": {},
   "source": [
    "## A5) :-   "
   ]
  },
  {
   "cell_type": "code",
   "execution_count": 34,
   "id": "4479c492",
   "metadata": {},
   "outputs": [],
   "source": [
    "def func_prime(n):\n",
    "    for i in range(1,n):\n",
    "        for j in range(2,n-1):\n",
    "            if i%j==0:\n",
    "            print(i)"
   ]
  },
  {
   "cell_type": "code",
   "execution_count": null,
   "id": "d8321aae",
   "metadata": {},
   "outputs": [],
   "source": []
  }
 ],
 "metadata": {
  "kernelspec": {
   "display_name": "Python 3 (ipykernel)",
   "language": "python",
   "name": "python3"
  },
  "language_info": {
   "codemirror_mode": {
    "name": "ipython",
    "version": 3
   },
   "file_extension": ".py",
   "mimetype": "text/x-python",
   "name": "python",
   "nbconvert_exporter": "python",
   "pygments_lexer": "ipython3",
   "version": "3.11.1"
  }
 },
 "nbformat": 4,
 "nbformat_minor": 5
}
